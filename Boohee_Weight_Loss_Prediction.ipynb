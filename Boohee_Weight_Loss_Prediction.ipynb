{
  "cells": [
    {
      "cell_type": "markdown",
      "metadata": {
        "id": "view-in-github",
        "colab_type": "text"
      },
      "source": [
        "<a href=\"https://colab.research.google.com/github/seungmindavid/Weight-Loss-Prediction-Using-GNN/blob/main/Boohee_Weight_Loss_Prediction.ipynb\" target=\"_parent\"><img src=\"https://colab.research.google.com/assets/colab-badge.svg\" alt=\"Open In Colab\"/></a>"
      ]
    },
    {
      "cell_type": "code",
      "execution_count": null,
      "metadata": {
        "id": "llVm4QO434w1"
      },
      "outputs": [],
      "source": [
        "import numpy as np\n",
        "import math\n",
        "import torch\n",
        "from torch_geometric.datasets import Planetoid\n",
        "import torch.nn.functional as Torch_F\n",
        "from torch_geometric.nn import GCNConv\n",
        "from torch_geometric.nn import SGConv\n",
        "import statistics\n",
        "import matplotlib.pyplot as plt\n",
        "from sklearn.metrics import confusion_matrix\n",
        "import seaborn as sn\n",
        "import pandas as pd\n",
        "import networkx as nx\n",
        "from torch_geometric.utils import to_networkx\n",
        "from torch_geometric.utils import from_networkx\n",
        "from datetime import datetime, date\n",
        "import copy\n",
        "from sklearn.preprocessing import StandardScaler\n"
      ]
    },
    {
      "cell_type": "code",
      "execution_count": null,
      "metadata": {
        "id": "OF4tNEvr34w2"
      },
      "outputs": [],
      "source": [
        "def age(born):\n",
        "    today = date.today()\n",
        "    return today.year - born.year - ((today.month, today.day) < (born.month, born.day))"
      ]
    },
    {
      "cell_type": "code",
      "execution_count": null,
      "metadata": {
        "id": "DvDOvW-e34w2"
      },
      "outputs": [],
      "source": [
        "# since we are predicting users in BOOHEE will loose weight or not, this is a classification problem.\n",
        "# And we know users are\n",
        "\n",
        "# So, there are 3 social network matrix (Following, Mention, Comment)\n",
        "# We need to create 1 user feature matrix\n",
        "# Then, by using Graph Convolutional Network algorithm, or GAT (Graph Attention Network)\n",
        "# we can create embedding space for those 3 matrixes\n",
        "\n",
        "# After we merge 3 embedded matrixes into 1 network matrix we can apply the machine learning ML Something like logistic regression,\n",
        "\n",
        "# Following\n",
        "following = pd.read_csv(\"./WeightLoss/network/friend_consolidated.csv\")\n",
        "\n",
        "# Comment\n",
        "comment = pd.read_csv(\"./WeightLoss/network/comment_rela.csv\")\n",
        "comment = comment[comment['who-comment'].isnull() == False]\n",
        "\n",
        "# Mention\n",
        "mention = pd.read_csv(\"./WeightLoss/network/mention_rela.csv\")\n",
        "mention = mention[mention['who-mention'].isnull() == False]\n",
        "\n",
        "# Post (How active is user)\n",
        "post = pd.read_csv(\"./WeightLoss/post_consolidated.csv\")\n",
        "# Number of post user 121 posted : post_consolidated[post_consolidated['user_id'] == 121]\n",
        "\n",
        "# User feature matrix: Users_consolidated\n",
        "users_consolidated = pd.read_csv(\"./WeightLoss/users_consolidated.csv\")\n"
      ]
    },
    {
      "cell_type": "code",
      "execution_count": null,
      "metadata": {
        "id": "vBNt4JpI34w2",
        "outputId": "e21022f0-0917-4cd0-a2a2-13558ba11624"
      },
      "outputs": [
        {
          "name": "stdout",
          "output_type": "stream",
          "text": [
            "done post\n",
            "done following\n",
            "done commenting\n",
            "done mention\n",
            "done converting datatype\n",
            "done\n"
          ]
        }
      ],
      "source": [
        "# How active user is (# of posts)\n",
        "# should consider NaN value -> 0\n",
        "post = post['user_id'].value_counts().rename_axis('user_id').reset_index(name='posting')\n",
        "users_consolidated = users_consolidated.set_index('id').join(post.set_index('user_id'))\n",
        "users_consolidated[\"posting\"] = users_consolidated[\"posting\"].fillna(0)\n",
        "\n",
        "del post # It's necessary to keep RAM Memory for later\n",
        "print('done post')\n",
        "# Number of Followers and Following\n",
        "follower_num = following['user_id'].value_counts().rename_axis('user_id').reset_index(name='follower_number')\n",
        "following_num = following['follower_id'].value_counts().rename_axis('follower_id').reset_index(name='following_number')\n",
        "\n",
        "users_consolidated = users_consolidated.join(follower_num.set_index('user_id'))\n",
        "users_consolidated = users_consolidated.join(following_num.set_index('follower_id'))\n",
        "\n",
        "users_consolidated[\"follower_number\"] = users_consolidated[\"follower_number\"].fillna(0)\n",
        "users_consolidated[\"following_number\"] = users_consolidated[\"following_number\"].fillna(0)\n",
        "\n",
        "del follower_num # It's necessary to keep RAM Memory for later\n",
        "del following_num # It's necessary to keep RAM Memory for later\n",
        "\n",
        "print('done following')\n",
        "# Number of Comments and received comments\n",
        "who_comment = comment['who-comment'].value_counts().rename_axis('who-comment').reset_index(name='comment_giving')\n",
        "comment_who = comment[' comment-who'].value_counts().rename_axis('comment-who').reset_index(name='received_comment')\n",
        "\n",
        "users_consolidated = users_consolidated.join(who_comment.set_index('who-comment'))\n",
        "users_consolidated = users_consolidated.join(comment_who.set_index('comment-who'))\n",
        "\n",
        "\n",
        "users_consolidated[\"comment_giving\"] = users_consolidated[\"comment_giving\"].fillna(0)\n",
        "users_consolidated[\"received_comment\"] = users_consolidated[\"received_comment\"].fillna(0)\n",
        "\n",
        "del who_comment # It's necessary to keep RAM Memory for later\n",
        "del comment_who # It's necessary to keep RAM Memory for later\n",
        "print('done commenting')\n",
        "\n",
        "#Number of Mentions and received mentions\n",
        "who_mention = mention['who-mention'].value_counts().rename_axis('who-mention').reset_index(name='mentioning')\n",
        "mention_who = mention['mention-who'].value_counts().rename_axis('mention-who').reset_index(name='received_mention')\n",
        "users_consolidated = users_consolidated.join(who_mention.set_index('who-mention'))\n",
        "users_consolidated = users_consolidated.join(mention_who.set_index('mention-who'))\n",
        "\n",
        "\n",
        "users_consolidated[\"mentioning\"] = users_consolidated[\"mentioning\"].fillna(0)\n",
        "users_consolidated[\"received_mention\"] = users_consolidated[\"received_mention\"].fillna(0)\n",
        "\n",
        "del who_mention # It's necessary to keep RAM Memory for later\n",
        "del mention_who # It's necessary to keep RAM Memory for later\n",
        "\n",
        "print('done mention')\n",
        "# convert to proper datatype\n",
        "users_consolidated['created_at'] =  pd.to_datetime(users_consolidated['created_at'], errors = 'coerce')\n",
        "users_consolidated['target_date'] = pd.to_datetime(users_consolidated['target_date'], errors = 'coerce')\n",
        "users_consolidated['birthday'] = pd.to_datetime(users_consolidated['birthday'], errors= 'coerce')\n",
        "users_consolidated['weight'] = users_consolidated['weight'].astype(str)\n",
        "users_consolidated['target_weight'] = users_consolidated['target_weight'].astype(str)\n",
        "users_consolidated['latest_weight'] = users_consolidated['latest_weight'].astype(str)\n",
        "\n",
        "users_consolidated = users_consolidated[users_consolidated[\"gendar\"].str.contains(\"null\") == False]\n",
        "users_consolidated = users_consolidated[users_consolidated[\"height\"].str.contains(\"null\") == False]\n",
        "users_consolidated = users_consolidated[users_consolidated[\"weight\"].str.contains(\"null\") == False]\n",
        "users_consolidated = users_consolidated[users_consolidated[\"target_weight\"].str.contains(\"null\") == False]\n",
        "users_consolidated = users_consolidated[users_consolidated[\"latest_weight\"].str.contains(\"null\") == False]\n",
        "\n",
        "users_consolidated['weight'] = users_consolidated['weight'].astype(float)\n",
        "users_consolidated['target_weight'] = users_consolidated['target_weight'].astype(float)\n",
        "users_consolidated['latest_weight'] = users_consolidated['latest_weight'].astype(float)\n",
        "\n",
        "print('done converting datatype')\n",
        "\n",
        "# Create diet_plan_duration: How tight users' plan is\n",
        "users_consolidated['diet_plan_duration'] = users_consolidated['target_date'] - users_consolidated['created_at']\n",
        "users_consolidated['diet_plan_duration'] = users_consolidated['diet_plan_duration'] / np.timedelta64(1,'D')\n",
        "users_consolidated = users_consolidated[users_consolidated['diet_plan_duration'] > 0]\n",
        "users_consolidated['diet_plan_duration'] = users_consolidated['diet_plan_duration'].astype(int)\n",
        "\n",
        "# Create diet_plan_amount: How hard users' plan will be\n",
        "users_consolidated['diet_plan_amount'] = abs(users_consolidated['weight'] - users_consolidated['target_weight'])\n",
        "users_consolidated = users_consolidated[users_consolidated['diet_plan_amount'] > 0]\n",
        "users_consolidated['diet_plan_amount'] = users_consolidated['diet_plan_amount'].astype(int)\n",
        "\n",
        "# birthday -> Age\n",
        "users_consolidated['age'] = users_consolidated['birthday'].apply(age)\n",
        "users_consolidated = users_consolidated[users_consolidated[\"age\"].isnull() == False]\n",
        "\n",
        "# str -> float\n",
        "users_consolidated['height'] = users_consolidated['height'].astype(float)\n",
        "users_consolidated['gendar'] = users_consolidated['gendar'].astype(float)\n",
        "\n",
        "\n",
        "# Labeling\n",
        "users_consolidated['weight_loss_status'] = users_consolidated['latest_weight'] < users_consolidated['weight']\n",
        "\n",
        "# reset index\n",
        "users_consolidated = users_consolidated.reset_index(names='id')\n",
        "\n",
        "print('done')\n"
      ]
    },
    {
      "cell_type": "code",
      "execution_count": null,
      "metadata": {
        "id": "VfDUfJl_34w3",
        "outputId": "759dfd0b-06d3-4a3b-b162-575c6be58d25"
      },
      "outputs": [
        {
          "name": "stdout",
          "output_type": "stream",
          "text": [
            "done X, Y\n"
          ]
        }
      ],
      "source": [
        "# Feature Matrix\n",
        "X = users_consolidated.filter(['id','gendar','age','height', 'weight', 'target_weight', 'diet_plan_duration','diet_plan_amount', 'bmi', 'posting', 'follower_number', 'following_number', 'comment_giving','received_comment', 'mentioning', 'received_mention'])\n",
        "X = X.set_index('id')\n",
        "\n",
        "# Label Matrix\n",
        "Y = users_consolidated.filter(['id', 'weight_loss_status'])\n",
        "Y[\"weight_loss_status\"] = Y[\"weight_loss_status\"].astype(np.int64)\n",
        "Y = Y.set_index('id')\n",
        "\n",
        "del users_consolidated # It's necessary to keep RAM Memory for later\n",
        "print('done X, Y')"
      ]
    },
    {
      "cell_type": "code",
      "execution_count": null,
      "metadata": {
        "id": "ue7p7YLK34w3",
        "outputId": "3350e267-1dc8-4b64-8bb1-05fb3999c4a2"
      },
      "outputs": [
        {
          "name": "stdout",
          "output_type": "stream",
          "text": [
            "        gendar       age    height    weight  target_weight  \\\n",
            "id                                                            \n",
            "1.0   0.363297  3.247852  0.024071 -0.122085       0.261507   \n",
            "2.0   0.363297 -0.656856  0.369353 -0.024028       0.775271   \n",
            "3.0   0.363297  0.191994 -0.206117  0.149458      -0.336327   \n",
            "4.0   0.363297  1.719923  0.139165  0.858488       0.728565   \n",
            "5.0  -2.669972 -0.317316  0.829730  0.556773       1.195622   \n",
            "6.0   0.363297  1.210613  0.484447  1.477004       0.728565   \n",
            "10.0  0.363297 -0.996396  0.944824 -0.046656       0.074684   \n",
            "11.0  0.363297  0.701303  0.714635  1.386489       0.261507   \n",
            "12.0  0.363297  1.380383 -0.666494 -1.102658      -0.485785   \n",
            "13.0 -2.669972  1.550153  0.714635  0.556773       1.195622   \n",
            "\n",
            "      diet_plan_duration  diet_plan_amount       bmi   posting  \\\n",
            "id                                                               \n",
            "1.0            -0.262581         -0.472627  0.105211 -0.075405   \n",
            "2.0             0.548611         -1.019740  0.051939 -0.012470   \n",
            "3.0             2.267058          0.512177  0.402013  1.277699   \n",
            "4.0             0.959544          0.402755  0.790139  1.372102   \n",
            "5.0             2.811410         -0.582049  0.292425 -0.106873   \n",
            "6.0             0.698041          1.278136  1.083897 -0.106873   \n",
            "10.0            3.142291         -0.144359 -0.161149  2.158790   \n",
            "11.0            2.976851          1.715827  0.914948 -0.075405   \n",
            "12.0            1.354466         -1.019740 -0.415334  0.018997   \n",
            "13.0            0.159025         -0.582049 -3.403140 -0.075405   \n",
            "\n",
            "      follower_number  following_number  comment_giving  received_comment  \\\n",
            "id                                                                          \n",
            "1.0          0.039979         -0.361897       -0.001355         -0.025557   \n",
            "2.0          0.060934         -0.439791       -0.001355          0.005344   \n",
            "3.0          0.122587         -0.128216       -0.000123          0.247403   \n",
            "4.0          0.151594         -0.258039        0.003162          0.201051   \n",
            "5.0          0.012296          0.079501       -0.001150         -0.025557   \n",
            "6.0          0.034244         -0.465755       -0.001355         -0.025557   \n",
            "10.0         0.225600         -0.335932        0.012606          0.664567   \n",
            "11.0         0.041192         -0.465755       -0.000123         -0.025557   \n",
            "12.0         0.024869         -0.413826       -0.000329          0.020795   \n",
            "13.0         0.001156         -0.050322       -0.000739         -0.025557   \n",
            "\n",
            "      mentioning  received_mention  \n",
            "id                                  \n",
            "1.0    -0.025859         -0.017306  \n",
            "2.0    -0.025859         -0.017306  \n",
            "3.0     0.022100          0.047368  \n",
            "4.0     0.134005          0.068926  \n",
            "5.0    -0.025859          0.004252  \n",
            "6.0    -0.025859         -0.017306  \n",
            "10.0    0.821420          0.047368  \n",
            "11.0   -0.025859         -0.006527  \n",
            "12.0    0.022100          0.015031  \n",
            "13.0   -0.025859         -0.006527  \n",
            "done normalizing\n"
          ]
        }
      ],
      "source": [
        "# Normalize with Sklearn StandardScaler\n",
        "from sklearn.preprocessing import StandardScaler\n",
        "\n",
        "std_scaler = StandardScaler()\n",
        "# Social activities\n",
        "X[['posting']] = std_scaler.fit_transform(X[['posting']])\n",
        "X[['follower_number', 'following_number']] = std_scaler.fit_transform(X[['follower_number', 'following_number']])\n",
        "X[['comment_giving', 'received_comment']] = std_scaler.fit_transform(X[['comment_giving', 'received_comment']])\n",
        "X[['mentioning', 'received_mention']] = std_scaler.fit_transform(X[['mentioning', 'received_mention']])\n",
        "\n",
        "# User's features\n",
        "X[['gendar', 'age', 'height', 'weight','target_weight','diet_plan_duration','diet_plan_amount','bmi']] = std_scaler.fit_transform(X[['gendar', 'age', 'height', 'weight','target_weight','diet_plan_duration','diet_plan_amount','bmi']])\n",
        "\n",
        "print(X.head(10))\n",
        "print('done normalizing')\n"
      ]
    },
    {
      "cell_type": "code",
      "execution_count": null,
      "metadata": {
        "id": "XGe5ov8y34w3",
        "outputId": "2b06f83a-c4d1-46be-d15f-c455b845d36c"
      },
      "outputs": [
        {
          "name": "stdout",
          "output_type": "stream",
          "text": [
            "done M\n"
          ]
        }
      ],
      "source": [
        "## Creating Mention Network dataset with its features\n",
        "\n",
        "mention_copy = copy.deepcopy(mention)\n",
        "mention_copy = mention_copy.set_index('who-mention')\n",
        "who_mention = pd.merge(Y, mention_copy, left_index=True, right_index=True)\n",
        "who_mention = who_mention.filter(['mention-who'])\n",
        "who_mention = who_mention.reset_index(names = 'who-mention')\n",
        "# remove who doesn't have label in mention-who column (they don't have features)\n",
        "who_mention = who_mention.set_index('mention-who')\n",
        "who_mention = pd.merge(Y, who_mention, left_index=True, right_index=True)\n",
        "who_mention = who_mention.filter(['who-mention'])\n",
        "who_mention = who_mention.reset_index(names = 'mention-who')\n",
        "who_mention = who_mention[['who-mention', 'mention-who']]\n",
        "\n",
        "'''\n",
        "# Do we need this part? -> duplicated process\n",
        "mention_copy = copy.deepcopy(mention)\n",
        "mention_copy = mention_copy.set_index('mention-who')\n",
        "mention_who = pd.merge(Y, mention_copy, left_index=True, right_index=True)\n",
        "mention_who = mention_who.filter(['who-mention'])\n",
        "mention_who = mention_who.reset_index(names='mention-who')\n",
        "# remove who doesn't have label in mention-who column (they don't have features)\n",
        "mention_who = mention_who.set_index('who-mention')\n",
        "mention_who = pd.merge(Y, mention_who, left_index=True, right_index=True)\n",
        "mention_who = mention_who.filter(['mention-who'])\n",
        "mention_who = mention_who.reset_index(names= 'who-mention')\n",
        "mention_who = mention_who[['who-mention', 'mention-who']]\n",
        "M = [who_mention, mention_who]\n",
        "M = pd.concat(M)\n",
        "'''\n",
        "\n",
        "M = who_mention.drop_duplicates()\n",
        "M = M.reset_index(drop=True)\n",
        "M['who-mention'] = M['who-mention'].astype(int)\n",
        "M = M.rename(columns={\"who-mention\": \"from\", \"mention-who\": \"to\"})\n",
        "\n",
        "del mention_copy\n",
        "del mention\n",
        "\n",
        "M.dtypes\n",
        "print('done M')"
      ]
    },
    {
      "cell_type": "code",
      "execution_count": null,
      "metadata": {
        "id": "4lyW4M3v34w4",
        "outputId": "40e7254d-66b7-4f4c-dec6-ca4fabb27ecf"
      },
      "outputs": [
        {
          "name": "stdout",
          "output_type": "stream",
          "text": [
            "done C\n"
          ]
        }
      ],
      "source": [
        "## Creating Comment Network dataset with its features\n",
        "# Extract id where features exists\n",
        "# F: Following\n",
        "# M: Mentioning\n",
        "# C: Commenting\n",
        "\n",
        "comment_copy = copy.deepcopy(comment)\n",
        "comment_copy = comment_copy.set_index('who-comment')\n",
        "who_comment = pd.merge(Y, comment_copy, left_index=True, right_index=True)\n",
        "who_comment = who_comment.filter([' comment-who'])\n",
        "who_comment = who_comment.reset_index(names = 'who-comment')\n",
        "# remove who doesn't have label in comment-who column (they don't have features)\n",
        "who_comment = who_comment.set_index(' comment-who')\n",
        "who_comment = pd.merge(Y, who_comment, left_index=True, right_index=True)\n",
        "who_comment = who_comment.filter(['who-comment'])\n",
        "who_comment = who_comment.reset_index(names = 'comment-who')\n",
        "who_comment = who_comment[['who-comment', 'comment-who']]\n",
        "\n",
        "# '''\n",
        "# comment_copy = copy.deepcopy(comment)\n",
        "# comment_copy = comment_copy.set_index(' comment-who')\n",
        "# comment_who = pd.merge(Y, comment_copy, left_index=True, right_index=True)\n",
        "# comment_who = comment_who.filter(['who-comment'])\n",
        "# comment_who = comment_who.reset_index(names='comment-who')\n",
        "# # remove who doesn't have label in comment-who column (they don't have features)\n",
        "# comment_who = comment_who.set_index('who-comment')\n",
        "# comment_who = pd.merge(Y, comment_who, left_index=True, right_index=True)\n",
        "# comment_who = comment_who.filter(['comment-who'])\n",
        "# comment_who = comment_who.reset_index(names= 'who-comment')\n",
        "# C = [who_comment, comment_who]\n",
        "# C = pd.concat(C)\n",
        "# '''\n",
        "\n",
        "C = who_comment.drop_duplicates()\n",
        "C = C.reset_index(drop=True)\n",
        "C = C.rename(columns={\"who-comment\": \"from\", \"comment-who\": \"to\"})\n",
        "\n",
        "del comment_copy\n",
        "del comment\n",
        "C.dtypes\n",
        "print('done C')"
      ]
    },
    {
      "cell_type": "code",
      "execution_count": null,
      "metadata": {
        "id": "KLvI5EJh34w4",
        "outputId": "2296c2ac-526b-48b7-88ec-4690fee69a6f"
      },
      "outputs": [
        {
          "name": "stdout",
          "output_type": "stream",
          "text": [
            "done F\n"
          ]
        }
      ],
      "source": [
        "## Creating Following Network dataset with its features\n",
        "# Extract id where features exists\n",
        "# F: Following\n",
        "# M: Mentioning\n",
        "# C: Commenting\n",
        "\n",
        "following_copy = copy.deepcopy(following)\n",
        "following_copy = following_copy.set_index('user_id')\n",
        "user_id = pd.merge(Y, following_copy, left_index=True, right_index=True)\n",
        "user_id = user_id.filter(['follower_id'])\n",
        "user_id = user_id.reset_index(names = 'user_id')\n",
        "# remove who doesn't have label in follower_id column (they don't have features)\n",
        "user_id = user_id.set_index('follower_id')\n",
        "user_id = pd.merge(Y, user_id, left_index=True, right_index=True)\n",
        "user_id = user_id.filter(['user_id'])\n",
        "user_id = user_id.reset_index(names = 'follower_id')\n",
        "user_id = user_id[['user_id', 'follower_id']]\n",
        "\n",
        "# '''\n",
        "# following_copy = copy.deepcopy(following)\n",
        "# following_copy = following_copy.set_index('follower_id')\n",
        "# follower_id = pd.merge(Y, following_copy, left_index=True, right_index=True)\n",
        "# follower_id = follower_id.filter(['user_id'])\n",
        "# follower_id = follower_id.reset_index(names='follwer_id')\n",
        "# # remove who doesn't have label in user_id column (they don't have features)\n",
        "# follower_id = follower_id.set_index('user_id')\n",
        "# follower_id = pd.merge(Y, follower_id, left_index=True, right_index=True)\n",
        "# follower_id = follower_id.filter(['follower_id'])\n",
        "# follower_id = follower_id.reset_index(names= 'user_id')\n",
        "# F = [user_id, follower_id]\n",
        "# F = pd.concat(F)\n",
        "# '''\n",
        "\n",
        "\n",
        "F = user_id.drop_duplicates()\n",
        "F = F.reset_index(drop=True)\n",
        "F = F.rename(columns={\"user_id\": \"from\", \"follower_id\": \"to\"})\n",
        "\n",
        "del following_copy\n",
        "del following\n",
        "\n",
        "F.dtypes\n",
        "print('done F')"
      ]
    },
    {
      "cell_type": "code",
      "execution_count": null,
      "metadata": {
        "id": "Oap5HJA334w4",
        "outputId": "9fd7933d-f6bc-4cfd-aca4-28a56a1e6dd7"
      },
      "outputs": [
        {
          "name": "stdout",
          "output_type": "stream",
          "text": [
            "done boohee\n"
          ]
        }
      ],
      "source": [
        "# MERGING ALL Social Activities into one data frame so that we can create undirected graph network\n",
        "boohee = [M,C,F]\n",
        "boohee = pd.concat(boohee)\n",
        "boohee = boohee.drop_duplicates()\n",
        "boohee.shape # (53141194, 2)\n",
        "\n",
        "del M\n",
        "del C\n",
        "del F\n",
        "\n",
        "print('done boohee')"
      ]
    },
    {
      "cell_type": "code",
      "execution_count": null,
      "metadata": {
        "id": "J12_NzKk34w4",
        "outputId": "415faec1-74b9-47a7-87ba-1f30c132ebb1"
      },
      "outputs": [
        {
          "data": {
            "text/plain": [
              "(52968252, 2)"
            ]
          },
          "execution_count": 82,
          "metadata": {},
          "output_type": "execute_result"
        }
      ],
      "source": [
        "boohee.shape"
      ]
    },
    {
      "cell_type": "code",
      "execution_count": null,
      "metadata": {
        "id": "AKp3bMfM34w4"
      },
      "outputs": [],
      "source": [
        "# boohee.to_csv('boohee.csv', sep='\\t') # Data is too big to handle.\n",
        "\n",
        "# ## NETWORKX -> PYTORCH\n",
        "\n",
        "# G_Boohee = nx.from_pandas_edgelist(boohee, 'from', 'to')\n",
        "# print(\"Step 1: Adding Edges into Boohee Network Completed\")\n",
        "\n",
        "# X_Attributes_dict = dict(zip(X.index, X.to_numpy()))\n",
        "# Y_dict = dict(zip(Y.index, Y['weight_loss_status'].values.tolist()))\n",
        "\n",
        "# nx.set_node_attributes(G_Boohee, X_Attributes_dict, \"x\")\n",
        "# nx.set_node_attributes(G_Boohee, Y_dict, \"y\")\n",
        "\n",
        "# boohee_PYG = from_networkx(G_Boohee)\n",
        "# print(\"Step 2: Convert networkx dataset to PyTorch Dataset Comnpleted\")\n",
        "\n",
        "# # Train: 80%\n",
        "# # Validation: 10%\n",
        "# # Test: 10%\n",
        "# train_mask, val_mask, test_mask = torch.utils.data.random_split(boohee_PYG.y, [0.8, 0.1, 0.1])\n",
        "# print(\"Step 3: Split into train_mask, val_mask, and test_mask Completed\")\n",
        "\n",
        "\n",
        "# del boohee\n",
        "# del G_Boohee"
      ]
    },
    {
      "cell_type": "code",
      "execution_count": null,
      "metadata": {
        "id": "70F1Pvrm34w4",
        "outputId": "f59487ae-facd-4f61-81dc-51b5263b6b9c"
      },
      "outputs": [
        {
          "name": "stdout",
          "output_type": "stream",
          "text": [
            "Step 1: Adding Edges into Boohee Network Completed\n",
            "Step 2: Convert networkx dataset to PyTorch Dataset Comnpleted\n",
            "Step 3: Split into train_mask, val_mask, and test_mask Completed\n",
            "Learning rate 1e-05: 0.45504508372692143\n"
          ]
        },
        {
          "data": {
            "image/png": "[encoded data removed]",
            "text/plain": [
              "<Figure size 432x288 with 1 Axes>"
            ]
          },
          "metadata": {
            "needs_background": "light"
          },
          "output_type": "display_data"
        },
        {
          "name": "stdout",
          "output_type": "stream",
          "text": [
            "Learning rate 0.01: 0.6713324745956777\n"
          ]
        },
        {
          "data": {
            "image/png": "[encoded data removed]",
            "text/plain": [
              "<Figure size 432x288 with 1 Axes>"
            ]
          },
          "metadata": {
            "needs_background": "light"
          },
          "output_type": "display_data"
        },
        {
          "name": "stdout",
          "output_type": "stream",
          "text": [
            "Learning rate 0.03: 0.6733934449692286\n"
          ]
        },
        {
          "data": {
            "image/png": "[encoded data removed]",
            "text/plain": [
              "<Figure size 432x288 with 1 Axes>"
            ]
          },
          "metadata": {
            "needs_background": "light"
          },
          "output_type": "display_data"
        }
      ],
      "source": [
        "boohee_subset = boohee.sample(n=50000)\n",
        "boohee_subet_nodes = pd.unique(boohee_subset[['from', 'to']].values.ravel('K')).tolist()\n",
        "X_Sample = X.loc[boohee_subet_nodes]\n",
        "Y_Sample = Y.loc[boohee_subet_nodes]\n",
        "\n",
        "G_Boohee = nx.from_pandas_edgelist(boohee_subset, 'from', 'to')\n",
        "print(\"Step 1: Adding Edges into Boohee Network Completed\")\n",
        "\n",
        "X_Attributes_dict = dict(zip(X_Sample.index, X_Sample.to_numpy())) # CORRECT! RETURNS x=[27, 8] # of nodes and # of features\n",
        "Y_dict = dict(zip(Y_Sample.index, Y_Sample['weight_loss_status'].values.tolist())) # WRONG! RETURNS y=[27, 1]. Should be y=[27]\n",
        "\n",
        "nx.set_node_attributes(G_Boohee, X_Attributes_dict, \"x\")\n",
        "nx.set_node_attributes(G_Boohee, Y_dict, \"y\")\n",
        "\n",
        "boohee_PYG = from_networkx(G_Boohee)\n",
        "\n",
        "print(\"Step 2: Convert networkx dataset to PyTorch Dataset Comnpleted\")\n",
        "\n",
        "train_mask, val_mask, test_mask = torch.utils.data.random_split(boohee_PYG.y, [0.8, 0.1, 0.1])\n",
        "print(\"Step 3: Split into train_mask, val_mask, and test_mask Completed\")\n",
        "\n",
        "\n",
        "# 2 Convolutional Network\n",
        "class GCN(torch.nn.Module):\n",
        "    def __init__(self):\n",
        "        super().__init__()\n",
        "        self.conv1 = GCNConv(boohee_PYG.num_node_features, 16)\n",
        "        self.conv2 = GCNConv(16, 2)\n",
        "\n",
        "    def forward(self, data):\n",
        "        x, edge_index = data.x.float(), data.edge_index\n",
        "        x = Torch_F.relu(self.conv1(x, edge_index))\n",
        "        x = Torch_F.dropout(x, training=self.training)\n",
        "        x = self.conv2(x,edge_index)\n",
        "        return Torch_F.log_softmax(x, dim=1)\n",
        "\n",
        "device = torch.device('cuda' if torch.cuda.is_available() else 'cpu')\n",
        "lr_param = [1e-5, 1e-2, 3e-2]\n",
        "data = boohee_PYG.to(device)\n",
        "\n",
        "while lr_param:\n",
        "    learning_rate = lr_param.pop(0)\n",
        "    accuracy_list = []\n",
        "    for i in range(5):\n",
        "        model = GCN().to(device)\n",
        "        optimizer = torch.optim.Adam(model.parameters(), lr=learning_rate, weight_decay = 1e-4)\n",
        "        model.train()\n",
        "        losses = []\n",
        "        for epoch in range(100):\n",
        "            optimizer.zero_grad()\n",
        "            out = model(data)\n",
        "            loss = Torch_F.cross_entropy(out[train_mask.indices], data.y[train_mask.indices])\n",
        "            losses.append(loss.item())\n",
        "            loss.backward()\n",
        "            optimizer.step()\n",
        "\n",
        "        model.eval()\n",
        "        pred = model(data).argmax(dim=1)\n",
        "        correct = (pred[test_mask.indices] == data.y[test_mask.indices]).sum()\n",
        "        acc = int(correct) / len(test_mask.indices)\n",
        "        accuracy_list.append(acc)\n",
        "    print('Learning rate ' + str(learning_rate) + ': ' + str(statistics.mean(accuracy_list)))\n",
        "\n",
        "    x = range(100)\n",
        "    plt.plot(x, losses)\n",
        "    plt.xlabel('Epoch')\n",
        "    plt.ylabel('Loss: pred - y')\n",
        "    plt.title('Learning Rate: ' + str(learning_rate))\n",
        "    plt.show()\n"
      ]
    },
    {
      "cell_type": "code",
      "execution_count": null,
      "metadata": {
        "id": "KlLgW02r34w5",
        "outputId": "c615a821-69a9-4a51-8cd9-5876d9dcc7cf"
      },
      "outputs": [
        {
          "name": "stdout",
          "output_type": "stream",
          "text": [
            "Step 1: Adding Edges into Boohee Network Completed\n",
            "Step 2: Convert networkx dataset to PyTorch Dataset Comnpleted\n",
            "Step 3: Split into train_mask, val_mask, and test_mask Completed\n",
            "Weight decay 0.0001: 0.6717552887364208\n"
          ]
        },
        {
          "data": {
            "image/png": "[encoded data removed]",
            "text/plain": [
              "<Figure size 432x288 with 1 Axes>"
            ]
          },
          "metadata": {
            "needs_background": "light"
          },
          "output_type": "display_data"
        },
        {
          "name": "stdout",
          "output_type": "stream",
          "text": [
            "Weight decay 0.001: 0.6700400228702116\n"
          ]
        },
        {
          "data": {
            "image/png": "[encoded data removed]",
            "text/plain": [
              "<Figure size 432x288 with 1 Axes>"
            ]
          },
          "metadata": {
            "needs_background": "light"
          },
          "output_type": "display_data"
        },
        {
          "name": "stdout",
          "output_type": "stream",
          "text": [
            "Weight decay 0.01: 0.6699256718124642\n"
          ]
        },
        {
          "data": {
            "image/png": "[encoded data removed]",
            "text/plain": [
              "<Figure size 432x288 with 1 Axes>"
            ]
          },
          "metadata": {
            "needs_background": "light"
          },
          "output_type": "display_data"
        },
        {
          "name": "stdout",
          "output_type": "stream",
          "text": [
            "Weight decay 0.1: 0.6650371640937679\n"
          ]
        },
        {
          "data": {
            "image/png": "[encoded data removed]",
            "text/plain": [
              "<Figure size 432x288 with 1 Axes>"
            ]
          },
          "metadata": {
            "needs_background": "light"
          },
          "output_type": "display_data"
        }
      ],
      "source": [
        "boohee_subset = boohee.sample(n=50000)\n",
        "boohee_subet_nodes = pd.unique(boohee_subset[['from', 'to']].values.ravel('K')).tolist()\n",
        "X_Sample = X.loc[boohee_subet_nodes]\n",
        "Y_Sample = Y.loc[boohee_subet_nodes]\n",
        "\n",
        "G_Boohee = nx.from_pandas_edgelist(boohee_subset, 'from', 'to')\n",
        "print(\"Step 1: Adding Edges into Boohee Network Completed\")\n",
        "\n",
        "X_Attributes_dict = dict(zip(X_Sample.index, X_Sample.to_numpy())) # CORRECT! RETURNS x=[27, 8] # of nodes and # of features\n",
        "Y_dict = dict(zip(Y_Sample.index, Y_Sample['weight_loss_status'].values.tolist()))\n",
        "\n",
        "nx.set_node_attributes(G_Boohee, X_Attributes_dict, \"x\")\n",
        "nx.set_node_attributes(G_Boohee, Y_dict, \"y\")\n",
        "\n",
        "boohee_PYG = from_networkx(G_Boohee)\n",
        "\n",
        "print(\"Step 2: Convert networkx dataset to PyTorch Dataset Comnpleted\")\n",
        "\n",
        "train_mask, val_mask, test_mask = torch.utils.data.random_split(boohee_PYG.y, [0.8, 0.1, 0.1])\n",
        "print(\"Step 3: Split into train_mask, val_mask, and test_mask Completed\")\n",
        "\n",
        "\n",
        "# 2 Convolutional Network\n",
        "class GCN(torch.nn.Module):\n",
        "    def __init__(self):\n",
        "        super().__init__()\n",
        "        self.conv1 = GCNConv(boohee_PYG.num_node_features, 16)\n",
        "        self.conv2 = GCNConv(16, 2)\n",
        "\n",
        "    def forward(self, data):\n",
        "        x, edge_index = data.x.float(), data.edge_index\n",
        "        x = Torch_F.relu(self.conv1(x, edge_index))\n",
        "        x = Torch_F.dropout(x, training=self.training)\n",
        "        x = self.conv2(x,edge_index)\n",
        "        return Torch_F.log_softmax(x, dim=1)\n",
        "\n",
        "device = torch.device('cuda' if torch.cuda.is_available() else 'cpu')\n",
        "weight_decay_param = [1e-4, 1e-3, 1e-2, 1e-1]\n",
        "data = boohee_PYG.to(device)\n",
        "\n",
        "while weight_decay_param:\n",
        "    wd = weight_decay_param.pop(0)\n",
        "    accuracy_list = []\n",
        "    for i in range(5):\n",
        "        model = GCN().to(device)\n",
        "        optimizer = torch.optim.Adam(model.parameters(), lr=0.01, weight_decay = wd)\n",
        "        model.train()\n",
        "        losses = []\n",
        "        for epoch in range(100):\n",
        "            optimizer.zero_grad()\n",
        "            out = model(data)\n",
        "            loss = Torch_F.cross_entropy(out[train_mask.indices], data.y[train_mask.indices])\n",
        "            losses.append(loss.item())\n",
        "            loss.backward()\n",
        "            optimizer.step()\n",
        "\n",
        "        model.eval()\n",
        "        pred = model(data).argmax(dim=1)\n",
        "        correct = (pred[test_mask.indices] == data.y[test_mask.indices]).sum()\n",
        "        acc = int(correct) / len(test_mask.indices)\n",
        "        accuracy_list.append(acc)\n",
        "    print('Weight decay ' + str(wd) + ': ' + str(statistics.mean(accuracy_list)))\n",
        "\n",
        "\n",
        "    x = range(100)\n",
        "    plt.plot(x, losses)\n",
        "    plt.xlabel('Epoch')\n",
        "    plt.ylabel('Loss: pred - y')\n",
        "    plt.title('Weight decay: ' + str(wd))\n",
        "    plt.show()\n"
      ]
    },
    {
      "cell_type": "code",
      "execution_count": null,
      "metadata": {
        "id": "MvrhUKrD34w5",
        "outputId": "b1f24610-1bf0-4374-acc5-856736296bfa"
      },
      "outputs": [
        {
          "name": "stdout",
          "output_type": "stream",
          "text": [
            "Step 1: Adding Edges into Boohee Network Completed\n",
            "Step 2: Convert networkx dataset to PyTorch Dataset Comnpleted\n",
            "Step 3: Split into train_mask, val_mask, and test_mask Completed\n",
            "Step 1: Adding Edges into Boohee Network Completed\n",
            "Step 2: Convert networkx dataset to PyTorch Dataset Comnpleted\n",
            "Step 3: Split into train_mask, val_mask, and test_mask Completed\n",
            "Step 1: Adding Edges into Boohee Network Completed\n",
            "Step 2: Convert networkx dataset to PyTorch Dataset Comnpleted\n",
            "Step 3: Split into train_mask, val_mask, and test_mask Completed\n",
            "Step 1: Adding Edges into Boohee Network Completed\n",
            "Step 2: Convert networkx dataset to PyTorch Dataset Comnpleted\n",
            "Step 3: Split into train_mask, val_mask, and test_mask Completed\n",
            "Step 1: Adding Edges into Boohee Network Completed\n",
            "Step 2: Convert networkx dataset to PyTorch Dataset Comnpleted\n",
            "Step 3: Split into train_mask, val_mask, and test_mask Completed\n",
            "Step 1: Adding Edges into Boohee Network Completed\n",
            "Step 2: Convert networkx dataset to PyTorch Dataset Comnpleted\n",
            "Step 3: Split into train_mask, val_mask, and test_mask Completed\n",
            "[0.7079773896043181, 0.7084784640217484, 0.7078245330383355, 0.709510477644863, 0.706839422259983]\n",
            "2 layer Accuracy: 0.7081260573138496\n"
          ]
        },
        {
          "data": {
            "image/png": "[encoded data removed]",
            "text/plain": [
              "<Figure size 432x288 with 1 Axes>"
            ]
          },
          "metadata": {
            "needs_background": "light"
          },
          "output_type": "display_data"
        }
      ],
      "source": [
        "#Experiment on 2 layer GCN\n",
        "\n",
        "boohee_subset = boohee.sample(n=100)\n",
        "boohee_subet_nodes = pd.unique(boohee_subset[['from', 'to']].values.ravel('K')).tolist()\n",
        "X_Sample = X.loc[boohee_subet_nodes]\n",
        "Y_Sample = Y.loc[boohee_subet_nodes]\n",
        "\n",
        "G_Boohee = nx.from_pandas_edgelist(boohee_subset, 'from', 'to')\n",
        "print(\"Step 1: Adding Edges into Boohee Network Completed\")\n",
        "\n",
        "X_Attributes_dict = dict(zip(X_Sample.index, X_Sample.to_numpy())) # CORRECT! RETURNS x=[27, 8] # of nodes and # of features\n",
        "Y_dict = dict(zip(Y_Sample.index, Y_Sample['weight_loss_status'].values.tolist()))\n",
        "\n",
        "nx.set_node_attributes(G_Boohee, X_Attributes_dict, \"x\")\n",
        "nx.set_node_attributes(G_Boohee, Y_dict, \"y\")\n",
        "\n",
        "boohee_PYG = from_networkx(G_Boohee)\n",
        "\n",
        "print(\"Step 2: Convert networkx dataset to PyTorch Dataset Comnpleted\")\n",
        "\n",
        "train_mask, val_mask, test_mask = torch.utils.data.random_split(boohee_PYG.y, [0.8, 0.1, 0.1])\n",
        "print(\"Step 3: Split into train_mask, val_mask, and test_mask Completed\")\n",
        "\n",
        "# 2 Convolutional Network\n",
        "class GCN(torch.nn.Module):\n",
        "    def __init__(self):\n",
        "        super().__init__()\n",
        "        self.conv1 = GCNConv(boohee_PYG.num_node_features, 16)\n",
        "        self.conv2 = GCNConv(16, 2)\n",
        "\n",
        "    def forward(self, data):\n",
        "        x, edge_index = data.x.float(), data.edge_index\n",
        "        x = Torch_F.relu(self.conv1(x, edge_index))\n",
        "        x = Torch_F.dropout(x, training=self.training)\n",
        "        x = self.conv2(x,edge_index)\n",
        "        return Torch_F.log_softmax(x, dim=1)\n",
        "\n",
        "device = torch.device('cuda' if torch.cuda.is_available() else 'cpu')\n",
        "data = boohee_PYG.to(device)\n",
        "model = GCN().to(device)\n",
        "\n",
        "accuracy_list = []\n",
        "losses = []\n",
        "\n",
        "for i in range(5):\n",
        "    boohee_subset = boohee.sample(n=200000)\n",
        "    boohee_subet_nodes = pd.unique(boohee_subset[['from', 'to']].values.ravel('K')).tolist()\n",
        "    X_Sample = X.loc[boohee_subet_nodes]\n",
        "    Y_Sample = Y.loc[boohee_subet_nodes]\n",
        "\n",
        "    G_Boohee = nx.from_pandas_edgelist(boohee_subset, 'from', 'to')\n",
        "    print(\"Step 1: Adding Edges into Boohee Network Completed\")\n",
        "\n",
        "    X_Attributes_dict = dict(zip(X_Sample.index, X_Sample.to_numpy())) # CORRECT! RETURNS x=[27, 8] # of nodes and # of features\n",
        "    Y_dict = dict(zip(Y_Sample.index, Y_Sample['weight_loss_status'].values.tolist()))\n",
        "\n",
        "    nx.set_node_attributes(G_Boohee, X_Attributes_dict, \"x\")\n",
        "    nx.set_node_attributes(G_Boohee, Y_dict, \"y\")\n",
        "\n",
        "    boohee_PYG = from_networkx(G_Boohee)\n",
        "\n",
        "    print(\"Step 2: Convert networkx dataset to PyTorch Dataset Comnpleted\")\n",
        "\n",
        "    train_mask, val_mask, test_mask = torch.utils.data.random_split(boohee_PYG.y, [0.8, 0.1, 0.1])\n",
        "    print(\"Step 3: Split into train_mask, val_mask, and test_mask Completed\")\n",
        "    data = boohee_PYG.to(device)\n",
        "    optimizer = torch.optim.Adam(model.parameters(), lr=0.03, weight_decay = 1e-4)\n",
        "    model.train()\n",
        "    for epoch in range(200):\n",
        "        optimizer.zero_grad()\n",
        "        out = model(data)\n",
        "        loss = Torch_F.cross_entropy(out[train_mask.indices], data.y[train_mask.indices])\n",
        "        losses.append(loss.item())\n",
        "        loss.backward()\n",
        "        optimizer.step()\n",
        "\n",
        "    model.eval()\n",
        "    pred = model(data).argmax(dim=1)\n",
        "    correct = (pred[test_mask.indices] == data.y[test_mask.indices]).sum()\n",
        "    acc = int(correct) / len(test_mask.indices)\n",
        "    accuracy_list.append(acc)\n",
        "\n",
        "print(accuracy_list)\n",
        "print('2 layer Accuracy: ' + str(statistics.mean(accuracy_list)))\n",
        "x = range(1000)\n",
        "plt.plot(x, losses)\n",
        "plt.xlabel('Epoch')\n",
        "plt.ylabel('Loss: pred - y')\n",
        "plt.title('2 Convolutional Network : ')\n",
        "plt.show()\n"
      ]
    },
    {
      "cell_type": "code",
      "execution_count": null,
      "metadata": {
        "id": "-OwgWWPq34w5",
        "outputId": "3b428fb4-94a9-48f1-9342-2c0c987cb2ed"
      },
      "outputs": [
        {
          "name": "stdout",
          "output_type": "stream",
          "text": [
            "Step 1: Adding Edges into Boohee Network Completed\n",
            "Step 2: Convert networkx dataset to PyTorch Dataset Comnpleted\n",
            "Step 3: Split into train_mask, val_mask, and test_mask Completed\n",
            "Step 1: Adding Edges into Boohee Network Completed\n",
            "Step 2: Convert networkx dataset to PyTorch Dataset Comnpleted\n",
            "Step 3: Split into train_mask, val_mask, and test_mask Completed\n",
            "Step 1: Adding Edges into Boohee Network Completed\n",
            "Step 2: Convert networkx dataset to PyTorch Dataset Comnpleted\n",
            "Step 3: Split into train_mask, val_mask, and test_mask Completed\n",
            "Step 1: Adding Edges into Boohee Network Completed\n",
            "Step 2: Convert networkx dataset to PyTorch Dataset Comnpleted\n",
            "Step 3: Split into train_mask, val_mask, and test_mask Completed\n",
            "Step 1: Adding Edges into Boohee Network Completed\n",
            "Step 2: Convert networkx dataset to PyTorch Dataset Comnpleted\n",
            "Step 3: Split into train_mask, val_mask, and test_mask Completed\n",
            "Step 1: Adding Edges into Boohee Network Completed\n",
            "Step 2: Convert networkx dataset to PyTorch Dataset Comnpleted\n",
            "Step 3: Split into train_mask, val_mask, and test_mask Completed\n",
            "[0.7109507640067911, 0.7103676657892503, 0.7112083616587356, 0.7118219277006075, 0.7128561736770692]\n",
            "3 layer Accuracy: 0.7114409785664907\n"
          ]
        },
        {
          "data": {
            "image/png": "[encoded data removed]",
            "text/plain": [
              "<Figure size 432x288 with 1 Axes>"
            ]
          },
          "metadata": {
            "needs_background": "light"
          },
          "output_type": "display_data"
        }
      ],
      "source": [
        "#Experiment on 3 layer GCN\n",
        "\n",
        "boohee_subset = boohee.sample(n=100)\n",
        "boohee_subet_nodes = pd.unique(boohee_subset[['from', 'to']].values.ravel('K')).tolist()\n",
        "X_Sample = X.loc[boohee_subet_nodes]\n",
        "Y_Sample = Y.loc[boohee_subet_nodes]\n",
        "\n",
        "G_Boohee = nx.from_pandas_edgelist(boohee_subset, 'from', 'to')\n",
        "print(\"Step 1: Adding Edges into Boohee Network Completed\")\n",
        "\n",
        "X_Attributes_dict = dict(zip(X_Sample.index, X_Sample.to_numpy())) # CORRECT! RETURNS x=[27, 8] # of nodes and # of features\n",
        "Y_dict = dict(zip(Y_Sample.index, Y_Sample['weight_loss_status'].values.tolist()))\n",
        "\n",
        "nx.set_node_attributes(G_Boohee, X_Attributes_dict, \"x\")\n",
        "nx.set_node_attributes(G_Boohee, Y_dict, \"y\")\n",
        "\n",
        "boohee_PYG = from_networkx(G_Boohee)\n",
        "\n",
        "print(\"Step 2: Convert networkx dataset to PyTorch Dataset Comnpleted\")\n",
        "\n",
        "train_mask, val_mask, test_mask = torch.utils.data.random_split(boohee_PYG.y, [0.8, 0.1, 0.1])\n",
        "print(\"Step 3: Split into train_mask, val_mask, and test_mask Completed\")\n",
        "\n",
        "# 3 Convolutional Network\n",
        "class GCN(torch.nn.Module):\n",
        "    def __init__(self):\n",
        "        super().__init__()\n",
        "        self.conv1 = GCNConv(boohee_PYG.num_node_features, 16)\n",
        "        self.conv2 = GCNConv(16, 16)\n",
        "        self.conv3 = GCNConv(16, 2)\n",
        "\n",
        "    def forward(self, data):\n",
        "        x, edge_index = data.x.float(), data.edge_index\n",
        "        x = Torch_F.relu(self.conv1(x, edge_index))\n",
        "        x = Torch_F.dropout(x, training=self.training)\n",
        "        x = Torch_F.relu(self.conv2(x,edge_index))\n",
        "        x = self.conv3(x,edge_index)\n",
        "        return Torch_F.log_softmax(x, dim=1)\n",
        "\n",
        "device = torch.device('cuda' if torch.cuda.is_available() else 'cpu')\n",
        "data = boohee_PYG.to(device)\n",
        "\n",
        "accuracy_list = []\n",
        "losses = []\n",
        "\n",
        "model = GCN().to(device)\n",
        "\n",
        "for i in range(5):\n",
        "    boohee_subset = boohee.sample(n=200000)\n",
        "    boohee_subet_nodes = pd.unique(boohee_subset[['from', 'to']].values.ravel('K')).tolist()\n",
        "    X_Sample = X.loc[boohee_subet_nodes]\n",
        "    Y_Sample = Y.loc[boohee_subet_nodes]\n",
        "\n",
        "    G_Boohee = nx.from_pandas_edgelist(boohee_subset, 'from', 'to')\n",
        "    print(\"Step 1: Adding Edges into Boohee Network Completed\")\n",
        "\n",
        "    X_Attributes_dict = dict(zip(X_Sample.index, X_Sample.to_numpy())) # CORRECT! RETURNS x=[27, 8] # of nodes and # of features\n",
        "    Y_dict = dict(zip(Y_Sample.index, Y_Sample['weight_loss_status'].values.tolist()))\n",
        "\n",
        "    nx.set_node_attributes(G_Boohee, X_Attributes_dict, \"x\")\n",
        "    nx.set_node_attributes(G_Boohee, Y_dict, \"y\")\n",
        "\n",
        "    boohee_PYG = from_networkx(G_Boohee)\n",
        "\n",
        "    print(\"Step 2: Convert networkx dataset to PyTorch Dataset Comnpleted\")\n",
        "\n",
        "    train_mask, val_mask, test_mask = torch.utils.data.random_split(boohee_PYG.y, [0.8, 0.1, 0.1])\n",
        "    print(\"Step 3: Split into train_mask, val_mask, and test_mask Completed\")\n",
        "    data = boohee_PYG.to(device)\n",
        "    optimizer = torch.optim.Adam(model.parameters(), lr=0.03, weight_decay = 1e-4)\n",
        "    model.train()\n",
        "    for epoch in range(200):\n",
        "        optimizer.zero_grad()\n",
        "        out = model(data)\n",
        "        loss = Torch_F.cross_entropy(out[train_mask.indices], data.y[train_mask.indices])\n",
        "        losses.append(loss.item())\n",
        "        loss.backward()\n",
        "        optimizer.step()\n",
        "\n",
        "    model.eval()\n",
        "    pred = model(data).argmax(dim=1)\n",
        "    correct = (pred[test_mask.indices] == data.y[test_mask.indices]).sum()\n",
        "    acc = int(correct) / len(test_mask.indices)\n",
        "    accuracy_list.append(acc)\n",
        "\n",
        "print(accuracy_list)\n",
        "print('3 layer Accuracy: ' + str(statistics.mean(accuracy_list)))\n",
        "x = range(1000)\n",
        "plt.plot(x, losses)\n",
        "plt.xlabel('Epoch')\n",
        "plt.ylabel('Loss: pred - y')\n",
        "plt.title('3 Convolutional Network : ')\n",
        "plt.show()\n"
      ]
    },
    {
      "cell_type": "code",
      "execution_count": null,
      "metadata": {
        "id": "01pbkrjt34w5",
        "outputId": "3d29af23-46cc-43ac-cf3f-f7870f137440"
      },
      "outputs": [
        {
          "name": "stdout",
          "output_type": "stream",
          "text": [
            "Step 1: Adding Edges into Boohee Network Completed\n",
            "Step 2: Convert networkx dataset to PyTorch Dataset Comnpleted\n",
            "Step 3: Split into train_mask, val_mask, and test_mask Completed\n",
            "Step 1: Adding Edges into Boohee Network Completed\n",
            "Step 2: Convert networkx dataset to PyTorch Dataset Comnpleted\n",
            "Step 3: Split into train_mask, val_mask, and test_mask Completed\n",
            "Step 1: Adding Edges into Boohee Network Completed\n",
            "Step 2: Convert networkx dataset to PyTorch Dataset Comnpleted\n",
            "Step 3: Split into train_mask, val_mask, and test_mask Completed\n",
            "Step 1: Adding Edges into Boohee Network Completed\n",
            "Step 2: Convert networkx dataset to PyTorch Dataset Comnpleted\n",
            "Step 3: Split into train_mask, val_mask, and test_mask Completed\n",
            "Step 1: Adding Edges into Boohee Network Completed\n",
            "Step 2: Convert networkx dataset to PyTorch Dataset Comnpleted\n",
            "Step 3: Split into train_mask, val_mask, and test_mask Completed\n",
            "Step 1: Adding Edges into Boohee Network Completed\n",
            "Step 2: Convert networkx dataset to PyTorch Dataset Comnpleted\n",
            "Step 3: Split into train_mask, val_mask, and test_mask Completed\n",
            "[0.6902797856960626, 0.7072735764935671, 0.7113905765390661, 0.707909029192125, 0.7124049772794836]\n",
            "7 layer Accuracy: 0.7058515890400608\n"
          ]
        },
        {
          "data": {
            "image/png": "[encoded data removed]",
            "text/plain": [
              "<Figure size 432x288 with 1 Axes>"
            ]
          },
          "metadata": {
            "needs_background": "light"
          },
          "output_type": "display_data"
        }
      ],
      "source": [
        "#Experiment on 7 layer GCN\n",
        "\n",
        "boohee_subset = boohee.sample(n=100)\n",
        "boohee_subet_nodes = pd.unique(boohee_subset[['from', 'to']].values.ravel('K')).tolist()\n",
        "X_Sample = X.loc[boohee_subet_nodes]\n",
        "Y_Sample = Y.loc[boohee_subet_nodes]\n",
        "\n",
        "G_Boohee = nx.from_pandas_edgelist(boohee_subset, 'from', 'to')\n",
        "print(\"Step 1: Adding Edges into Boohee Network Completed\")\n",
        "\n",
        "X_Attributes_dict = dict(zip(X_Sample.index, X_Sample.to_numpy())) # CORRECT! RETURNS x=[27, 8] # of nodes and # of features\n",
        "Y_dict = dict(zip(Y_Sample.index, Y_Sample['weight_loss_status'].values.tolist()))\n",
        "\n",
        "nx.set_node_attributes(G_Boohee, X_Attributes_dict, \"x\")\n",
        "nx.set_node_attributes(G_Boohee, Y_dict, \"y\")\n",
        "\n",
        "boohee_PYG = from_networkx(G_Boohee)\n",
        "\n",
        "print(\"Step 2: Convert networkx dataset to PyTorch Dataset Comnpleted\")\n",
        "\n",
        "train_mask, val_mask, test_mask = torch.utils.data.random_split(boohee_PYG.y, [0.8, 0.1, 0.1])\n",
        "print(\"Step 3: Split into train_mask, val_mask, and test_mask Completed\")\n",
        "\n",
        "# 5 Convolutional Network\n",
        "class GCN(torch.nn.Module):\n",
        "    def __init__(self):\n",
        "        super().__init__()\n",
        "        self.conv1 = GCNConv(boohee_PYG.num_node_features, 16)\n",
        "        self.conv2 = GCNConv(16, 16)\n",
        "        self.conv3 = GCNConv(16, 16)\n",
        "        self.conv4 = GCNConv(16, 16)\n",
        "        self.conv5 = GCNConv(16, 16)\n",
        "        self.conv6 = GCNConv(16, 16)\n",
        "        self.conv7 = GCNConv(16, 2)\n",
        "\n",
        "    def forward(self, data):\n",
        "        x, edge_index = data.x.float(), data.edge_index\n",
        "        x = Torch_F.relu(self.conv1(x, edge_index))\n",
        "        x = Torch_F.dropout(x, training=self.training)\n",
        "        x = Torch_F.relu(self.conv2(x, edge_index))\n",
        "        x = Torch_F.dropout(x, training=self.training)\n",
        "        x = Torch_F.relu(self.conv3(x, edge_index))\n",
        "        x = Torch_F.dropout(x, training=self.training)\n",
        "        x = Torch_F.relu(self.conv4(x, edge_index))\n",
        "        x = Torch_F.dropout(x, training=self.training)\n",
        "        x = Torch_F.relu(self.conv5(x, edge_index))\n",
        "        x = Torch_F.dropout(x, training=self.training)\n",
        "        x = Torch_F.relu(self.conv6(x, edge_index))\n",
        "        x = Torch_F.dropout(x, training=self.training)\n",
        "        x = self.conv7(x,edge_index)\n",
        "        return Torch_F.log_softmax(x, dim=1)\n",
        "\n",
        "\n",
        "device = torch.device('cuda' if torch.cuda.is_available() else 'cpu')\n",
        "data = boohee_PYG.to(device)\n",
        "model = GCN().to(device)\n",
        "accuracy_list = []\n",
        "losses = []\n",
        "\n",
        "\n",
        "for i in range(5):\n",
        "    boohee_subset = boohee.sample(n=200000)\n",
        "    boohee_subet_nodes = pd.unique(boohee_subset[['from', 'to']].values.ravel('K')).tolist()\n",
        "    X_Sample = X.loc[boohee_subet_nodes]\n",
        "    Y_Sample = Y.loc[boohee_subet_nodes]\n",
        "\n",
        "    G_Boohee = nx.from_pandas_edgelist(boohee_subset, 'from', 'to')\n",
        "    print(\"Step 1: Adding Edges into Boohee Network Completed\")\n",
        "\n",
        "    X_Attributes_dict = dict(zip(X_Sample.index, X_Sample.to_numpy())) # CORRECT! RETURNS x=[27, 8] # of nodes and # of features\n",
        "    Y_dict = dict(zip(Y_Sample.index, Y_Sample['weight_loss_status'].values.tolist()))\n",
        "\n",
        "    nx.set_node_attributes(G_Boohee, X_Attributes_dict, \"x\")\n",
        "    nx.set_node_attributes(G_Boohee, Y_dict, \"y\")\n",
        "\n",
        "    boohee_PYG = from_networkx(G_Boohee)\n",
        "\n",
        "    print(\"Step 2: Convert networkx dataset to PyTorch Dataset Comnpleted\")\n",
        "\n",
        "    train_mask, val_mask, test_mask = torch.utils.data.random_split(boohee_PYG.y, [0.8, 0.1, 0.1])\n",
        "    print(\"Step 3: Split into train_mask, val_mask, and test_mask Completed\")\n",
        "\n",
        "    data = boohee_PYG.to(device)\n",
        "    optimizer = torch.optim.Adam(model.parameters(), lr=0.03, weight_decay = 1e-4)\n",
        "    model.train()\n",
        "    for epoch in range(200):\n",
        "        optimizer.zero_grad()\n",
        "        out = model(data)\n",
        "        loss = Torch_F.cross_entropy(out[train_mask.indices], data.y[train_mask.indices])\n",
        "        losses.append(loss.item())\n",
        "        loss.backward()\n",
        "        optimizer.step()\n",
        "\n",
        "    model.eval()\n",
        "    pred = model(data).argmax(dim=1)\n",
        "    correct = (pred[test_mask.indices] == data.y[test_mask.indices]).sum()\n",
        "    acc = int(correct) / len(test_mask.indices)\n",
        "    accuracy_list.append(acc)\n",
        "\n",
        "print(accuracy_list)\n",
        "print('7 layer Accuracy: ' + str(statistics.mean(accuracy_list)))\n",
        "x = range(1000)\n",
        "plt.plot(x, losses)\n",
        "plt.xlabel('Epoch')\n",
        "plt.ylabel('Loss: pred - y')\n",
        "plt.title('7 Convolutional Network : ')\n",
        "plt.show()\n"
      ]
    },
    {
      "cell_type": "code",
      "execution_count": null,
      "metadata": {
        "id": "eCEOHplT34w5",
        "outputId": "49ec2228-f44a-4726-e870-34003d95ee69"
      },
      "outputs": [
        {
          "name": "stdout",
          "output_type": "stream",
          "text": [
            "0.7077184414481368\n"
          ]
        }
      ],
      "source": [
        "from sklearn.linear_model import LogisticRegression\n",
        "from sklearn.model_selection import train_test_split\n",
        "\n",
        "X_train, X_test, y_train, y_test = train_test_split(X_Sample, Y_Sample, test_size=0.2, random_state=42)\n",
        "\n",
        "clf = LogisticRegression(random_state=0).fit(X_train, np.ravel(y_train))\n",
        "score = clf.score(X_test, np.ravel(y_test))\n",
        "print(score)"
      ]
    },
    {
      "cell_type": "code",
      "execution_count": null,
      "metadata": {
        "id": "glJvFvdS34w5"
      },
      "outputs": [],
      "source": []
    }
  ],
  "metadata": {
    "kernelspec": {
      "display_name": "SNA",
      "language": "python",
      "name": "sna"
    },
    "language_info": {
      "codemirror_mode": {
        "name": "ipython",
        "version": 3
      },
      "file_extension": ".py",
      "mimetype": "text/x-python",
      "name": "python",
      "nbconvert_exporter": "python",
      "pygments_lexer": "ipython3",
      "version": "3.10.8"
    },
    "colab": {
      "provenance": [],
      "include_colab_link": true
    }
  },
  "nbformat": 4,
  "nbformat_minor": 0
}